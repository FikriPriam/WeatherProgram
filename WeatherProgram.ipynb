{
 "cells": [
  {
   "cell_type": "code",
   "execution_count": 3,
   "metadata": {},
   "outputs": [
    {
     "name": "stdout",
     "output_type": "stream",
     "text": [
      "Where are you? (eg. Syracuse, NY) : Jakarta, ID\n",
      "Current conditions in Jakarta, ID are Humid and Partly Cloudy with a temperature of 79 degrees.\n"
     ]
    }
   ],
   "source": [
    "import requests\n",
    "\n",
    "def geocode(location):\n",
    "    params = {'q' : location, 'format': 'json'}\n",
    "    url='https://nominatim.openstreetmap.org/search' \n",
    "    response = requests.get(url, params = params)\n",
    "    if response.ok:\n",
    "        geodata = response.json()\n",
    "        return geodata\n",
    "    else:\n",
    "        print(\"Error calling api!!!\")\n",
    "        print(response.text)\n",
    "        \n",
    "def darksky_weather(coords):\n",
    "    key = '00632a17e916f8ae0618cd706a982a48' #well u can use your own api key\n",
    "    url='https://api.darksky.net/forecast/%s/%f,%f' % (key, coords['lat'], coords['lng'])\n",
    "    #print(url)\n",
    "    response = requests.get(url)\n",
    "    weather = response.json()\n",
    "    return weather\n",
    "\n",
    "geodata = geocode('Syracuse, NY') #this is just to figure out how to extract from the dictionary\n",
    "coords = { 'lat' : float(geodata[0]['lat']), 'lng' : float(geodata[0]['lon']) }\n",
    "coords\n",
    "weather = darksky_weather(coords)\n",
    "weather['currently']['temperature']\n",
    "\n",
    "import requests\n",
    "location = input(\"Where are you? (eg. Syracuse, NY) : \")\n",
    "geodata = geocode(location)\n",
    "coords = { 'lat' : float(geodata[0]['lat']), 'lng' : float(geodata[0]['lon']) }\n",
    "weather = darksky_weather(coords)\n",
    "current = weather['currently']\n",
    "print(\"Current conditions in %s are %s with a temperature of %.0f degrees.\" % \n",
    "      (location, current['summary'], current['temperature']))\n",
    "\n"
   ]
  }
 ],
 "metadata": {
  "kernelspec": {
   "display_name": "Python 3",
   "language": "python",
   "name": "python3"
  },
  "language_info": {
   "codemirror_mode": {
    "name": "ipython",
    "version": 3
   },
   "file_extension": ".py",
   "mimetype": "text/x-python",
   "name": "python",
   "nbconvert_exporter": "python",
   "pygments_lexer": "ipython3",
   "version": "3.7.0"
  }
 },
 "nbformat": 4,
 "nbformat_minor": 2
}
